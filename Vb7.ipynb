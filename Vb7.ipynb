{
 "cells": [
  {
   "cell_type": "code",
   "execution_count": 1,
   "id": "af5776b2-289a-490f-8f66-d0162ba681f1",
   "metadata": {},
   "outputs": [],
   "source": [
    "import sympy as sym\n",
    "import matplotlib.pyplot as plt\n",
    "import numpy as np"
   ]
  },
  {
   "cell_type": "code",
   "execution_count": 2,
   "id": "51f2e6cb-1afa-4ec8-956e-919c4b441608",
   "metadata": {},
   "outputs": [],
   "source": [
    "EI, A_v, B_v, x = sym.symbols('EI, A_v, B_v, x')\n",
    "C_1, C_2, C_3, C_4 = sym.symbols('C_1, C_2, C_3, C_4')\n",
    "oo = sym.Dummy('oo', prime=True)\n",
    "very_small = 1/oo\n",
    "L = 10\n",
    "F = 35\n",
    "EI2 = sym.symbols('EI2')\n",
    "ql, Vl, Ml, kappal, phil, wl = sym.symbols('q_z, V, M, kappa, phi, w')"
   ]
  },
  {
   "cell_type": "code",
   "execution_count": 3,
   "id": "ff8cc1b6-861e-459c-ad4f-4ed6b09f6028",
   "metadata": {},
   "outputs": [
    {
     "data": {
      "text/latex": [
       "$\\displaystyle A_{v} {\\left\\langle x \\right\\rangle}^{-1} + B_{v} {\\left\\langle x - 10 \\right\\rangle}^{-1} + 35 {\\left\\langle x - 5.0 \\right\\rangle}^{-1}$"
      ],
      "text/plain": [
       "A_v*SingularityFunction(x, 0, -1) + B_v*SingularityFunction(x, 10, -1) + 35*SingularityFunction(x, 5.0, -1)"
      ]
     },
     "metadata": {},
     "output_type": "display_data"
    },
    {
     "data": {
      "text/latex": [
       "$\\displaystyle - A_{v} {\\left\\langle x \\right\\rangle}^{0} - B_{v} {\\left\\langle x - 10 \\right\\rangle}^{0} + C_{1} - 35 {\\left\\langle x - 5.0 \\right\\rangle}^{0}$"
      ],
      "text/plain": [
       "-A_v*SingularityFunction(x, 0, 0) - B_v*SingularityFunction(x, 10, 0) + C_1 - 35*SingularityFunction(x, 5.0, 0)"
      ]
     },
     "metadata": {},
     "output_type": "display_data"
    },
    {
     "data": {
      "text/latex": [
       "$\\displaystyle - A_{v} {\\left\\langle x \\right\\rangle}^{1} - B_{v} {\\left\\langle x - 10 \\right\\rangle}^{1} + C_{1} x + C_{2} - 35 {\\left\\langle x - 5.0 \\right\\rangle}^{1}$"
      ],
      "text/plain": [
       "-A_v*SingularityFunction(x, 0, 1) - B_v*SingularityFunction(x, 10, 1) + C_1*x + C_2 - 35*SingularityFunction(x, 5.0, 1)"
      ]
     },
     "metadata": {},
     "output_type": "display_data"
    },
    {
     "data": {
      "text/latex": [
       "$\\displaystyle \\frac{5 A_{v} \\left(1 - \\frac{5}{x}\\right) {\\left\\langle x - 5 \\right\\rangle}^{0}}{EI} + \\frac{\\left(1 - \\frac{5}{x}\\right) \\left(A_{v} + 35\\right) {\\left\\langle x - 5 \\right\\rangle}^{1}}{EI} + \\frac{- A_{v} {\\left\\langle x \\right\\rangle}^{1} - B_{v} {\\left\\langle x - 10 \\right\\rangle}^{1} + C_{1} x + C_{2} - 35 {\\left\\langle x - 5.0 \\right\\rangle}^{1}}{EI}$"
      ],
      "text/plain": [
       "5*A_v*(1 - 5/x)*SingularityFunction(x, 5, 0)/EI + (1 - 5/x)*(A_v + 35)*SingularityFunction(x, 5, 1)/EI + (-A_v*SingularityFunction(x, 0, 1) - B_v*SingularityFunction(x, 10, 1) + C_1*x + C_2 - 35*SingularityFunction(x, 5.0, 1))/EI"
      ]
     },
     "metadata": {},
     "output_type": "display_data"
    },
    {
     "data": {
      "text/latex": [
       "$\\displaystyle \\frac{5 A_{v} \\left(x - 5 \\log{\\left(x \\right)} - 5 + 5 \\log{\\left(5 \\right)}\\right) {\\left\\langle x - 5 \\right\\rangle}^{0}}{EI} + C_{3} + \\frac{\\left(A_{v} + 35\\right) \\left(\\frac{x^{2}}{2} - 10 x + 25 \\log{\\left(x \\right)} - 25 \\log{\\left(5 \\right)} + \\frac{75}{2}\\right) {\\left\\langle x - 5 \\right\\rangle}^{0}}{EI} + \\frac{- \\frac{A_{v} {\\left\\langle x \\right\\rangle}^{2}}{2} - \\frac{B_{v} {\\left\\langle x - 10 \\right\\rangle}^{2}}{2} + \\frac{C_{1} x^{2}}{2} + C_{2} x - \\frac{35 {\\left\\langle x - 5.0 \\right\\rangle}^{2}}{2}}{EI}$"
      ],
      "text/plain": [
       "5*A_v*(x - 5*log(x) - 5 + 5*log(5))*SingularityFunction(x, 5, 0)/EI + C_3 + (A_v + 35)*(x**2/2 - 10*x + 25*log(x) - 25*log(5) + 75/2)*SingularityFunction(x, 5, 0)/EI + (-A_v*SingularityFunction(x, 0, 2)/2 - B_v*SingularityFunction(x, 10, 2)/2 + C_1*x**2/2 + C_2*x - 35*SingularityFunction(x, 5.0, 2)/2)/EI"
      ]
     },
     "metadata": {},
     "output_type": "display_data"
    },
    {
     "data": {
      "text/latex": [
       "$\\displaystyle - \\frac{5 A_{v} \\left(\\frac{x^{2}}{2} - 5 x \\log{\\left(x \\right)} + 5 x \\log{\\left(5 \\right)} - \\frac{25}{2}\\right) {\\left\\langle x - 5 \\right\\rangle}^{0}}{EI} - C_{3} x + C_{4} - \\frac{\\left(A_{v} + 35\\right) \\left(\\frac{x^{3}}{6} - 5 x^{2} + 25 x \\log{\\left(x \\right)} - 25 x \\log{\\left(5 \\right)} + \\frac{25 x}{2} + \\frac{125}{3}\\right) {\\left\\langle x - 5 \\right\\rangle}^{0}}{EI} - \\frac{- \\frac{A_{v} {\\left\\langle x \\right\\rangle}^{3}}{6} - \\frac{B_{v} {\\left\\langle x - 10 \\right\\rangle}^{3}}{6} + \\frac{C_{1} x^{3}}{6} + \\frac{C_{2} x^{2}}{2} - \\frac{35 {\\left\\langle x - 5.0 \\right\\rangle}^{3}}{6}}{EI}$"
      ],
      "text/plain": [
       "-5*A_v*(x**2/2 - 5*x*log(x) + 5*x*log(5) - 25/2)*SingularityFunction(x, 5, 0)/EI - C_3*x + C_4 - (A_v + 35)*(x**3/6 - 5*x**2 + 25*x*log(x) - 25*x*log(5) + 25*x/2 + 125/3)*SingularityFunction(x, 5, 0)/EI - (-A_v*SingularityFunction(x, 0, 3)/6 - B_v*SingularityFunction(x, 10, 3)/6 + C_1*x**3/6 + C_2*x**2/2 - 35*SingularityFunction(x, 5.0, 3)/6)/EI"
      ]
     },
     "metadata": {},
     "output_type": "display_data"
    },
    {
     "name": "stdout",
     "output_type": "stream",
     "text": [
      "q_{z} = A_{v} {\\left\\langle x \\right\\rangle}^{-1} + B_{v} {\\left\\langle x - 10 \\right\\rangle}^{-1} + 35 {\\left\\langle x - 5.0 \\right\\rangle}^{-1}\n",
      "V = - A_{v} {\\left\\langle x \\right\\rangle}^{0} - B_{v} {\\left\\langle x - 10 \\right\\rangle}^{0} + C_{1} - 35 {\\left\\langle x - 5.0 \\right\\rangle}^{0}\n",
      "M = - A_{v} {\\left\\langle x \\right\\rangle}^{1} - B_{v} {\\left\\langle x - 10 \\right\\rangle}^{1} + C_{1} x + C_{2} - 35 {\\left\\langle x - 5.0 \\right\\rangle}^{1}\n",
      "\\kappa = \\frac{5 A_{v} \\left(1 - \\frac{5}{x}\\right) {\\left\\langle x - 5 \\right\\rangle}^{0}}{EI} + \\frac{\\left(1 - \\frac{5}{x}\\right) \\left(A_{v} + 35\\right) {\\left\\langle x - 5 \\right\\rangle}^{1}}{EI} + \\frac{- A_{v} {\\left\\langle x \\right\\rangle}^{1} - B_{v} {\\left\\langle x - 10 \\right\\rangle}^{1} + C_{1} x + C_{2} - 35 {\\left\\langle x - 5.0 \\right\\rangle}^{1}}{EI}\n",
      "\\phi = \\frac{5 A_{v} \\left(x - 5 \\log{\\left(x \\right)} - 5 + 5 \\log{\\left(5 \\right)}\\right) {\\left\\langle x - 5 \\right\\rangle}^{0}}{EI} + C_{3} + \\frac{\\left(A_{v} + 35\\right) \\left(\\frac{x^{2}}{2} - 10 x + 25 \\log{\\left(x \\right)} - 25 \\log{\\left(5 \\right)} + \\frac{75}{2}\\right) {\\left\\langle x - 5 \\right\\rangle}^{0}}{EI} + \\frac{- \\frac{A_{v} {\\left\\langle x \\right\\rangle}^{2}}{2} - \\frac{B_{v} {\\left\\langle x - 10 \\right\\rangle}^{2}}{2} + \\frac{C_{1} x^{2}}{2} + C_{2} x - \\frac{35 {\\left\\langle x - 5.0 \\right\\rangle}^{2}}{2}}{EI}\n",
      "w = - \\frac{5 A_{v} \\left(\\frac{x^{2}}{2} - 5 x \\log{\\left(x \\right)} + 5 x \\log{\\left(5 \\right)} - \\frac{25}{2}\\right) {\\left\\langle x - 5 \\right\\rangle}^{0}}{EI} - C_{3} x + C_{4} - \\frac{\\left(A_{v} + 35\\right) \\left(\\frac{x^{3}}{6} - 5 x^{2} + 25 x \\log{\\left(x \\right)} - 25 x \\log{\\left(5 \\right)} + \\frac{25 x}{2} + \\frac{125}{3}\\right) {\\left\\langle x - 5 \\right\\rangle}^{0}}{EI} - \\frac{- \\frac{A_{v} {\\left\\langle x \\right\\rangle}^{3}}{6} - \\frac{B_{v} {\\left\\langle x - 10 \\right\\rangle}^{3}}{6} + \\frac{C_{1} x^{3}}{6} + \\frac{C_{2} x^{2}}{2} - \\frac{35 {\\left\\langle x - 5.0 \\right\\rangle}^{3}}{6}}{EI}\n"
     ]
    }
   ],
   "source": [
    "q = A_v * sym.SingularityFunction(x,0,-1) + F * sym.SingularityFunction(x,L/2,-1) + B_v * sym.SingularityFunction(x,L,-1)\n",
    "display(q)\n",
    "V = -sym.integrate(q, x) + C_1\n",
    "display(V)\n",
    "M = sym.integrate(V, x) + C_2\n",
    "display(M)\n",
    "kappa = M/EI + 1/EI*(1-5/x)*sym.SingularityFunction(x,5,0)*(A_v*L/2) + 1/EI*(1-5/x)*sym.SingularityFunction(x,5,1)*(A_v+F)\n",
    "kappa1 = M/EI\n",
    "# - 1/EI*(1-1/(1+1/5*(x-5)))*sym.SingularityFunction(x,L/2,1)*(A_v+F)\n",
    "display(kappa)\n",
    "phi = sym.integrate(kappa, x) + C_3\n",
    "# + 1/EI*(sym.SingularityFunction(x,5,1) + 5*sym.log(5/x)*sym.SingularityFunction(x,5,0))*(A_v*L/2) + 1/EI*(1+sym.log(5/x))*sym.SingularityFunction(x,5,2)*(A_v+F)\n",
    "display(phi)\n",
    "w = -sym.integrate(phi, x) + C_4\n",
    "display(w.rewrite(x))\n",
    "print(sym.latex(sym.Eq(ql,q)))\n",
    "print(sym.latex(sym.Eq(Vl,V)))\n",
    "print(sym.latex(sym.Eq(Ml,M)))\n",
    "print(sym.latex(sym.Eq(kappal,kappa)))\n",
    "print(sym.latex(sym.Eq(phil,phi)))\n",
    "print(sym.latex(sym.Eq(wl,w)))"
   ]
  },
  {
   "cell_type": "code",
   "execution_count": 4,
   "id": "61a26240-54b0-465c-8a76-f697baacf43c",
   "metadata": {},
   "outputs": [
    {
     "data": {
      "text/latex": [
       "$\\displaystyle C_{2} = 0$"
      ],
      "text/plain": [
       "Eq(C_2, 0)"
      ]
     },
     "metadata": {},
     "output_type": "display_data"
    },
    {
     "data": {
      "text/latex": [
       "$\\displaystyle C_{4} = 0$"
      ],
      "text/plain": [
       "Eq(C_4, 0)"
      ]
     },
     "metadata": {},
     "output_type": "display_data"
    },
    {
     "data": {
      "text/latex": [
       "$\\displaystyle - 10 A_{v} + 10 C_{1} + C_{2} - 175.0 = 0$"
      ],
      "text/plain": [
       "Eq(-10*A_v + 10*C_1 + C_2 - 175.0, 0)"
      ]
     },
     "metadata": {},
     "output_type": "display_data"
    },
    {
     "data": {
      "text/latex": [
       "$\\displaystyle - \\frac{5 A_{v} \\left(- 50 \\log{\\left(10 \\right)} + \\frac{75}{2} + 50 \\log{\\left(5 \\right)}\\right)}{EI} - 10 C_{3} + C_{4} - \\frac{\\left(A_{v} + 35\\right) \\left(- 250 \\log{\\left(5 \\right)} - \\frac{500}{3} + 250 \\log{\\left(10 \\right)}\\right)}{EI} - \\frac{- \\frac{500 A_{v}}{3} + \\frac{500 C_{1}}{3} + 50 C_{2} - 729.166666666667}{EI} = 0$"
      ],
      "text/plain": [
       "Eq(-5*A_v*(-50*log(10) + 75/2 + 50*log(5))/EI - 10*C_3 + C_4 - (A_v + 35)*(-250*log(5) - 500/3 + 250*log(10))/EI - (-500*A_v/3 + 500*C_1/3 + 50*C_2 - 729.166666666667)/EI, 0)"
      ]
     },
     "metadata": {},
     "output_type": "display_data"
    },
    {
     "data": {
      "text/latex": [
       "$\\displaystyle C_{1} = 0$"
      ],
      "text/plain": [
       "Eq(C_1, 0)"
      ]
     },
     "metadata": {},
     "output_type": "display_data"
    },
    {
     "data": {
      "text/latex": [
       "$\\displaystyle - A_{v} - B_{v} + C_{1} - 35 = 0$"
      ],
      "text/plain": [
       "Eq(-A_v - B_v + C_1 - 35, 0)"
      ]
     },
     "metadata": {},
     "output_type": "display_data"
    },
    {
     "name": "stdout",
     "output_type": "stream",
     "text": [
      "C_{2} = 0\n",
      "- 10 A_{v} + 10 C_{1} + C_{2} - 175.0 = 0\n",
      "C_{4} = 0\n",
      "- \\frac{5 A_{v} \\left(- 50 \\log{\\left(10 \\right)} + \\frac{75}{2} + 50 \\log{\\left(5 \\right)}\\right)}{EI} - 10 C_{3} + C_{4} - \\frac{\\left(A_{v} + 35\\right) \\left(- 250 \\log{\\left(5 \\right)} - \\frac{500}{3} + 250 \\log{\\left(10 \\right)}\\right)}{EI} - \\frac{- \\frac{500 A_{v}}{3} + \\frac{500 C_{1}}{3} + 50 C_{2} - 729.166666666667}{EI} = 0\n",
      "C_{1} = 0\n",
      "- A_{v} - B_{v} + C_{1} - 35 = 0\n"
     ]
    }
   ],
   "source": [
    "eq1 = sym.Eq(M.subs(x,0),0)\n",
    "eq2 = sym.Eq(w.subs(x,0-very_small),0).subs(oo,sym.oo)\n",
    "eq3 = sym.Eq(M.subs(x,L),0)\n",
    "eq4 = sym.Eq(w.subs(x,L),0)\n",
    "eq5 = sym.Eq(V.subs(x,0-very_small),0).subs(oo,sym.oo)\n",
    "eq6 = sym.Eq(V.subs(x,L+very_small),0).subs(oo,sym.oo)\n",
    "display(eq1, eq2, eq3, eq4, eq5, eq6)\n",
    "print(sym.latex(eq1))\n",
    "print(sym.latex(eq3))\n",
    "print(sym.latex(eq2))\n",
    "print(sym.latex(eq4))\n",
    "print(sym.latex(eq5))\n",
    "print(sym.latex(eq6))"
   ]
  },
  {
   "cell_type": "code",
   "execution_count": 5,
   "id": "c19629d7-826a-442e-9a0d-16b4cae16cc3",
   "metadata": {},
   "outputs": [
    {
     "data": {
      "text/plain": [
       "{C_1: 0.0,\n",
       " C_2: 0.0,\n",
       " C_3: -205.462116323286/EI,\n",
       " C_4: 0.0,\n",
       " A_v: -17.5000000000000,\n",
       " B_v: -17.5000000000000}"
      ]
     },
     "metadata": {},
     "output_type": "display_data"
    },
    {
     "data": {
      "text/latex": [
       "$\\displaystyle \\frac{- 17.5 x^{3} {\\left\\langle x - 5 \\right\\rangle}^{0} + 787.5 x^{2} {\\left\\langle x - 5 \\right\\rangle}^{0} - 5250.0 x \\log{\\left(x \\right)} {\\left\\langle x - 5 \\right\\rangle}^{0} - 1312.5 x {\\left\\langle x - 5 \\right\\rangle}^{0} + 5250.0 x \\log{\\left(5 \\right)} {\\left\\langle x - 5 \\right\\rangle}^{0} + 1232.77269793971 x - 17.5 {\\left\\langle x \\right\\rangle}^{3} - 10937.5 {\\left\\langle x - 5 \\right\\rangle}^{0} + 35 {\\left\\langle x - 5.0 \\right\\rangle}^{3} - 17.5 {\\left\\langle x - 10 \\right\\rangle}^{3}}{6 EI}$"
      ],
      "text/plain": [
       "(-17.5*x**3*SingularityFunction(x, 5, 0) + 787.5*x**2*SingularityFunction(x, 5, 0) - 5250.0*x*log(x)*SingularityFunction(x, 5, 0) - 1312.5*x*SingularityFunction(x, 5, 0) + 5250.0*x*log(5)*SingularityFunction(x, 5, 0) + 1232.77269793971*x - 17.5*SingularityFunction(x, 0, 3) - 10937.5*SingularityFunction(x, 5, 0) + 35*SingularityFunction(x, 5.0, 3) - 17.5*SingularityFunction(x, 10, 3))/(6*EI)"
      ]
     },
     "metadata": {},
     "output_type": "display_data"
    },
    {
     "name": "stdout",
     "output_type": "stream",
     "text": [
      "\\left\\{ A_{v} : -17.5, \\  B_{v} : -17.5, \\  C_{1} : 0.0, \\  C_{2} : 0.0, \\  C_{3} : - \\frac{205.462116323286}{EI}, \\  C_{4} : 0.0\\right\\}\n"
     ]
    }
   ],
   "source": [
    "sol = sym.solve((eq1,eq2,eq3,eq4,eq5,eq6),(C_1,C_2,C_3,C_4,A_v,B_v))\n",
    "display(sol)\n",
    "display(w.subs(sol).factor(EI))\n",
    "print(sym.latex(sol))"
   ]
  },
  {
   "cell_type": "code",
   "execution_count": 6,
   "id": "b5ac002e-01cf-4ff6-920c-ef56f812b6f9",
   "metadata": {},
   "outputs": [],
   "source": [
    "w_numpy = sym.lambdify(x, w.subs(sol).subs(EI,10000).subs(EI2,20000).rewrite(sym.Piecewise))"
   ]
  },
  {
   "cell_type": "code",
   "execution_count": 7,
   "id": "b97a26a8-c30e-47e1-b356-2ad25c575b80",
   "metadata": {},
   "outputs": [
    {
     "name": "stderr",
     "output_type": "stream",
     "text": [
      "<lambdifygenerated-1>:2: RuntimeWarning: divide by zero encountered in log\n",
      "  return 0.0205462116323286*x + 0.00875*((1/2)*x**2 - 5*x*log(x) + 5*x*log(5) - 25/2)*select([greater(x, 5),True], [1,0], default=nan) - 0.00175*((1/6)*x**3 - 5*x**2 + 25*x*log(x) - 25*x*log(5) + (25/2)*x + 125/3)*select([greater(x, 5),True], [1,0], default=nan) - 0.000291666666666667*select([greater(x, 0),True], [x**3,0], default=nan) + (7/12000)*select([greater(x - 5.0, 0),True], [125.0*(0.2*x - 1)**3,0], default=nan) - 0.000291666666666667*select([greater(x, 10),True], [(x - 10)**3,0], default=nan)\n",
      "<lambdifygenerated-1>:2: RuntimeWarning: invalid value encountered in multiply\n",
      "  return 0.0205462116323286*x + 0.00875*((1/2)*x**2 - 5*x*log(x) + 5*x*log(5) - 25/2)*select([greater(x, 5),True], [1,0], default=nan) - 0.00175*((1/6)*x**3 - 5*x**2 + 25*x*log(x) - 25*x*log(5) + (25/2)*x + 125/3)*select([greater(x, 5),True], [1,0], default=nan) - 0.000291666666666667*select([greater(x, 0),True], [x**3,0], default=nan) + (7/12000)*select([greater(x - 5.0, 0),True], [125.0*(0.2*x - 1)**3,0], default=nan) - 0.000291666666666667*select([greater(x, 10),True], [(x - 10)**3,0], default=nan)\n"
     ]
    },
    {
     "name": "stdout",
     "output_type": "stream",
     "text": [
      "0.06627272482830962\n",
      "0.04665771610574422\n"
     ]
    },
    {
     "data": {
      "image/png": "[encoded data removed]",
      "text/plain": [
       "<Figure size 640x480 with 1 Axes>"
      ]
     },
     "metadata": {},
     "output_type": "display_data"
    }
   ],
   "source": [
    "x_numpy = np.linspace(0,L,100)\n",
    "plt.figure()\n",
    "plt.plot(x_numpy,w_numpy(x_numpy))\n",
    "plt.xlabel('$x$')\n",
    "plt.ylabel('$w$',rotation=0);\n",
    "ax = plt.gca()\n",
    "ax.spines['right'].set_color('none')\n",
    "ax.spines['top'].set_color('none')\n",
    "ax.spines['bottom'].set_position('zero')\n",
    "ax.spines['left'].set_position('zero')\n",
    "ax.invert_yaxis()\n",
    "print(w_numpy(5))\n",
    "print(w_numpy(7.24562))"
   ]
  },
  {
   "cell_type": "code",
   "execution_count": 8,
   "id": "fad413ff-678e-4dd5-bcf6-ad7c143cbc8f",
   "metadata": {},
   "outputs": [],
   "source": [
    "V_numpy = sym.lambdify(x, V.subs(sol).subs(EI,10000).subs(EI2,20000).rewrite(sym.Piecewise))"
   ]
  },
  {
   "cell_type": "code",
   "execution_count": 9,
   "id": "0fa42e31-7ad4-4fc5-858c-dba5393c35cc",
   "metadata": {},
   "outputs": [
    {
     "data": {
      "image/png": "[encoded data removed]",
      "text/plain": [
       "<Figure size 640x480 with 1 Axes>"
      ]
     },
     "metadata": {},
     "output_type": "display_data"
    }
   ],
   "source": [
    "x_numpy = np.linspace(0,L,100)\n",
    "plt.figure()\n",
    "plt.plot(x_numpy,V_numpy(x_numpy))\n",
    "plt.xlabel('$x$')\n",
    "plt.ylabel('$V$',rotation=0);\n",
    "ax = plt.gca()\n",
    "ax.spines['right'].set_color('none')\n",
    "ax.spines['top'].set_color('none')\n",
    "ax.spines['bottom'].set_position('zero')\n",
    "ax.spines['left'].set_position('zero')\n",
    "ax.invert_yaxis()"
   ]
  },
  {
   "cell_type": "code",
   "execution_count": 10,
   "id": "c2e27997-b789-482e-aa1d-275adda2a49d",
   "metadata": {},
   "outputs": [],
   "source": [
    "M_numpy = sym.lambdify(x, M.subs(sol).subs(EI,10000).subs(EI2,20000).rewrite(sym.Piecewise))"
   ]
  },
  {
   "cell_type": "code",
   "execution_count": 11,
   "id": "23a1f6ca-9824-4eb0-b061-f61127659359",
   "metadata": {},
   "outputs": [
    {
     "data": {
      "image/png": "[encoded data removed]",
      "text/plain": [
       "<Figure size 640x480 with 1 Axes>"
      ]
     },
     "metadata": {},
     "output_type": "display_data"
    }
   ],
   "source": [
    "x_numpy = np.linspace(0,L,100)\n",
    "plt.figure()\n",
    "plt.plot(x_numpy,M_numpy(x_numpy))\n",
    "plt.xlabel('$x$')\n",
    "plt.ylabel('$M$',rotation=0);\n",
    "ax = plt.gca()\n",
    "ax.spines['right'].set_color('none')\n",
    "ax.spines['top'].set_color('none')\n",
    "ax.spines['bottom'].set_position('zero')\n",
    "ax.spines['left'].set_position('zero')\n",
    "ax.invert_yaxis()"
   ]
  },
  {
   "cell_type": "code",
   "execution_count": 12,
   "id": "8a5288fc-aefe-4945-9641-38c0c49c2272",
   "metadata": {},
   "outputs": [
    {
     "data": {
      "text/latex": [
       "$\\displaystyle \\frac{0.000875 {\\left\\langle x - 5 \\right\\rangle}^{2}}{x}$"
      ],
      "text/plain": [
       "0.000875*SingularityFunction(x, 5, 2)/x"
      ]
     },
     "metadata": {},
     "output_type": "display_data"
    }
   ],
   "source": [
    "kappa_numpy = sym.lambdify(x, kappa.subs(sol).subs(EI,10000).subs(EI2,20000).rewrite(sym.Piecewise))\n",
    "a = (35/2)*(1/2)*(1/x)*sym.SingularityFunction(x,5,2)/10000\n",
    "a1 = sym.lambdify(x, a.subs(sol).subs(EI,10000).subs(EI2,20000).rewrite(sym.Piecewise))\n",
    "display(a)"
   ]
  },
  {
   "cell_type": "code",
   "execution_count": 37,
   "id": "a1be33d1-cb97-4a42-8688-e8ae6aebd1f1",
   "metadata": {},
   "outputs": [
    {
     "name": "stderr",
     "output_type": "stream",
     "text": [
      "<lambdifygenerated-4>:2: RuntimeWarning: divide by zero encountered in divide\n",
      "  return -0.00875*(1 - 5/x)*select([greater(x, 5),True], [1,0], default=nan) + 0.00175*(1 - 5/x)*select([greater(x, 5),True], [x - 5,0], default=nan) + 0.00175*select([greater(x, 0),True], [x,0], default=nan) + 0.00175*select([greater(x, 10),True], [x - 10,0], default=nan) - 7/2000*select([greater(x - 5.0, 0),True], [x - 5.0,0], default=nan)\n",
      "<lambdifygenerated-4>:2: RuntimeWarning: invalid value encountered in multiply\n",
      "  return -0.00875*(1 - 5/x)*select([greater(x, 5),True], [1,0], default=nan) + 0.00175*(1 - 5/x)*select([greater(x, 5),True], [x - 5,0], default=nan) + 0.00175*select([greater(x, 0),True], [x,0], default=nan) + 0.00175*select([greater(x, 10),True], [x - 10,0], default=nan) - 7/2000*select([greater(x - 5.0, 0),True], [x - 5.0,0], default=nan)\n"
     ]
    },
    {
     "data": {
      "image/png": "[encoded data removed]",
      "text/plain": [
       "<Figure size 640x480 with 1 Axes>"
      ]
     },
     "metadata": {},
     "output_type": "display_data"
    }
   ],
   "source": [
    "x_numpy = np.linspace(0,L,100)\n",
    "plt.figure()\n",
    "plt.plot(x_numpy,kappa_numpy(x_numpy))\n",
    "# plt.plot(x_numpy, a1(x_numpy))\n",
    "plt.xlabel('$x$')\n",
    "plt.ylabel('$\\kappa$',rotation=0);\n",
    "ax = plt.gca()\n",
    "ax.spines['right'].set_color('none')\n",
    "ax.spines['top'].set_color('none')\n",
    "ax.spines['bottom'].set_position('zero')\n",
    "ax.spines['left'].set_position('zero')\n",
    "ax.invert_yaxis()"
   ]
  },
  {
   "cell_type": "code",
   "execution_count": 14,
   "id": "3e8e88a1-46a3-44b3-9b7a-3b2426ccae76",
   "metadata": {},
   "outputs": [
    {
     "data": {
      "text/latex": [
       "$\\displaystyle 0.0205462116323286 x + 0.00875 \\left(\\frac{x^{2}}{2} - 5 x \\log{\\left(x \\right)} + 5 x \\log{\\left(5 \\right)} - \\frac{25}{2}\\right) {\\left\\langle x - 5 \\right\\rangle}^{0} - 0.00175 \\left(\\frac{x^{3}}{6} - 5 x^{2} + 25 x \\log{\\left(x \\right)} - 25 x \\log{\\left(5 \\right)} + \\frac{25 x}{2} + \\frac{125}{3}\\right) {\\left\\langle x - 5 \\right\\rangle}^{0} - 0.000291666666666667 {\\left\\langle x \\right\\rangle}^{3} + \\frac{7 {\\left\\langle x - 5.0 \\right\\rangle}^{3}}{12000} - 0.000291666666666667 {\\left\\langle x - 10 \\right\\rangle}^{3}$"
      ],
      "text/plain": [
       "0.0205462116323286*x + 0.00875*(x**2/2 - 5*x*log(x) + 5*x*log(5) - 25/2)*SingularityFunction(x, 5, 0) - 0.00175*(x**3/6 - 5*x**2 + 25*x*log(x) - 25*x*log(5) + 25*x/2 + 125/3)*SingularityFunction(x, 5, 0) - 0.000291666666666667*SingularityFunction(x, 0, 3) + 7*SingularityFunction(x, 5.0, 3)/12000 - 0.000291666666666667*SingularityFunction(x, 10, 3)"
      ]
     },
     "metadata": {},
     "output_type": "display_data"
    },
    {
     "name": "stdout",
     "output_type": "stream",
     "text": [
      "0.06627272482830962\n",
      "0.0\n",
      "0.00875\n",
      "0.0037500000000000007\n",
      "0.008531924587142428\n"
     ]
    }
   ],
   "source": [
    "display(w.subs(sol).subs(EI,10000).subs(EI2,20000))\n",
    "print(w_numpy(5))\n",
    "print(kappa_numpy(10))\n",
    "print(kappa_numpy(5))\n",
    "print(kappa_numpy(7))\n",
    "phi_numpy = sym.lambdify(x, phi.subs(sol).subs(EI,10000).subs(EI2,20000).rewrite(sym.Piecewise))\n",
    "print(phi_numpy(6))\n"
   ]
  },
  {
   "cell_type": "code",
   "execution_count": 15,
   "id": "1b507a60-b25d-4a9b-9df5-59deaa466a2a",
   "metadata": {},
   "outputs": [
    {
     "name": "stdout",
     "output_type": "stream",
     "text": [
      "0.0205462116323286*x + 0.00875*(x**2/2 - 5*x*log(x) + 5*x*log(5) - 25/2)*SingularityFunction(x, 5, 0) - 0.00175*(x**3/6 - 5*x**2 + 25*x*log(x) - 25*x*log(5) + 25*x/2 + 125/3)*SingularityFunction(x, 5, 0) - 0.000291666666666667*SingularityFunction(x, 0, 3) + 7*SingularityFunction(x, 5.0, 3)/12000 - 0.000291666666666667*SingularityFunction(x, 10, 3)\n"
     ]
    }
   ],
   "source": [
    "print(w.subs(sol).subs(EI,10000))"
   ]
  },
  {
   "cell_type": "code",
   "execution_count": 16,
   "id": "d7dd6991-fd26-452d-bd77-3af1fb944fe0",
   "metadata": {},
   "outputs": [
    {
     "name": "stdout",
     "output_type": "stream",
     "text": [
      "0.05002590316247386\n"
     ]
    }
   ],
   "source": [
    "print(w_numpy(7))"
   ]
  },
  {
   "cell_type": "code",
   "execution_count": 17,
   "id": "c5ccc8c7-948d-4ada-8383-98ea19f4ff58",
   "metadata": {},
   "outputs": [
    {
     "name": "stdout",
     "output_type": "stream",
     "text": [
      "0.00875\n",
      "87.5\n"
     ]
    }
   ],
   "source": [
    "print(kappa_numpy(5))\n",
    "print(M_numpy(5))"
   ]
  },
  {
   "cell_type": "code",
   "execution_count": 18,
   "id": "b6c0563e-92bb-4f39-8b35-8c0fdd025f8b",
   "metadata": {},
   "outputs": [
    {
     "data": {
      "text/latex": [
       "$\\displaystyle \\infty$"
      ],
      "text/plain": [
       "oo"
      ]
     },
     "metadata": {},
     "output_type": "display_data"
    },
    {
     "name": "stdout",
     "output_type": "stream",
     "text": [
      "oo\n"
     ]
    }
   ],
   "source": [
    "x = sym.symbols('x')\n",
    "a = sym.SingularityFunction(5,5,-1)\n",
    "display(a)\n",
    "print(a)"
   ]
  }
 ],
 "metadata": {
  "kernelspec": {
   "display_name": "Python [conda env:base] *",
   "language": "python",
   "name": "conda-base-py"
  },
  "language_info": {
   "codemirror_mode": {
    "name": "ipython",
    "version": 3
   },
   "file_extension": ".py",
   "mimetype": "text/x-python",
   "name": "python",
   "nbconvert_exporter": "python",
   "pygments_lexer": "ipython3",
   "version": "3.11.4"
  }
 },
 "nbformat": 4,
 "nbformat_minor": 5
}
