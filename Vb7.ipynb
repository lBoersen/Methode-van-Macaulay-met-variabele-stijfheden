{
 "cells": [
  {
   "cell_type": "code",
   "execution_count": 1,
   "id": "af5776b2-289a-490f-8f66-d0162ba681f1",
   "metadata": {},
   "outputs": [],
   "source": [
    "import sympy as sym\n",
    "import matplotlib.pyplot as plt\n",
    "import numpy as np\n",
    "sym.init_printing()\n",
    "oo = sym.Dummy('oo', prime=True)\n",
    "very_small = 1/oo\n",
    "x = sym.symbols('x')\n",
    "\n",
    "C_1, C_2, C_3, C_4 = sym.symbols('C_1, C_2, C_3, C_4')\n",
    "A_v, B_v = sym.symbols('A_v, B_v')\n",
    "ql, Vl, Ml, kappal, phil, wl = sym.symbols('q_z, V, M, kappa, phi, w')"
   ]
  },
  {
   "cell_type": "code",
   "execution_count": 2,
   "id": "51f2e6cb-1afa-4ec8-956e-919c4b441608",
   "metadata": {},
   "outputs": [
    {
     "data": {
      "image/png": "[encoded data removed]",
      "text/latex": [
       "$\\displaystyle q_{z} = A_{v} {\\left\\langle x \\right\\rangle}^{-1} + B_{v} {\\left\\langle x - 10 \\right\\rangle}^{-1} + 35 {\\left\\langle x - 5.0 \\right\\rangle}^{-1}$"
      ],
      "text/plain": [
       "            -1              -1               -1\n",
       "q_z = Aᵥ⋅<x>   + Bᵥ⋅<x - 10>   + 35⋅<x - 5.0>  "
      ]
     },
     "metadata": {},
     "output_type": "display_data"
    }
   ],
   "source": [
    "L = 10\n",
    "F = 35\n",
    "\n",
    "EI = sym.symbols('EI')\n",
    "\n",
    "q = A_v * sym.SingularityFunction(x,0,-1) + F * sym.SingularityFunction(x,L/2,-1) + B_v * sym.SingularityFunction(x,L,-1)\n",
    "display(sym.Eq(ql,q))"
   ]
  },
  {
   "cell_type": "code",
   "execution_count": 3,
   "id": "ff8cc1b6-861e-459c-ad4f-4ed6b09f6028",
   "metadata": {},
   "outputs": [
    {
     "data": {
      "image/png": "[encoded data removed]",
      "text/latex": [
       "$\\displaystyle V = - A_{v} {\\left\\langle x \\right\\rangle}^{0} - B_{v} {\\left\\langle x - 10 \\right\\rangle}^{0} + C_{1} - 35 {\\left\\langle x - 5.0 \\right\\rangle}^{0}$"
      ],
      "text/plain": [
       "            0              0                    0\n",
       "V = - Aᵥ⋅<x>  - Bᵥ⋅<x - 10>  + C₁ - 35⋅<x - 5.0> "
      ]
     },
     "metadata": {},
     "output_type": "display_data"
    },
    {
     "data": {
      "image/png": "[encoded data removed]",
      "text/latex": [
       "$\\displaystyle M = - A_{v} {\\left\\langle x \\right\\rangle}^{1} - B_{v} {\\left\\langle x - 10 \\right\\rangle}^{1} + C_{1} x + C_{2} - 35 {\\left\\langle x - 5.0 \\right\\rangle}^{1}$"
      ],
      "text/plain": [
       "            1              1                           1\n",
       "M = - Aᵥ⋅<x>  - Bᵥ⋅<x - 10>  + C₁⋅x + C₂ - 35⋅<x - 5.0> "
      ]
     },
     "metadata": {},
     "output_type": "display_data"
    },
    {
     "data": {
      "image/png": "[encoded data removed]",
      "text/latex": [
       "$\\displaystyle \\kappa = \\frac{5 A_{v} \\left(1 - \\frac{5}{x}\\right) {\\left\\langle x - 5 \\right\\rangle}^{0}}{EI} + \\frac{\\left(1 - \\frac{5}{x}\\right) \\left(A_{v} + 35\\right) {\\left\\langle x - 5 \\right\\rangle}^{1}}{EI} + \\frac{- A_{v} {\\left\\langle x \\right\\rangle}^{1} - B_{v} {\\left\\langle x - 10 \\right\\rangle}^{1} + C_{1} x + C_{2} - 35 {\\left\\langle x - 5.0 \\right\\rangle}^{1}}{EI}$"
      ],
      "text/plain": [
       "         ⎛    5⎞        0   ⎛    5⎞                  1                        \n",
       "    5⋅Aᵥ⋅⎜1 - ─⎟⋅<x - 5>    ⎜1 - ─⎟⋅(Aᵥ + 35)⋅<x - 5>            1            \n",
       "         ⎝    x⎠            ⎝    x⎠                      - Aᵥ⋅<x>  - Bᵥ⋅<x - 1\n",
       "κ = ───────────────────── + ────────────────────────── + ─────────────────────\n",
       "              EI                        EI                                    \n",
       "\n",
       "                               \n",
       "  1                           1\n",
       "0>  + C₁⋅x + C₂ - 35⋅<x - 5.0> \n",
       "───────────────────────────────\n",
       "    EI                         "
      ]
     },
     "metadata": {},
     "output_type": "display_data"
    },
    {
     "data": {
      "image/png": "[encoded data removed]",
      "text/latex": [
       "$\\displaystyle \\phi = \\frac{5 A_{v} \\left(x - 5 \\log{\\left(x \\right)} - 5 + 5 \\log{\\left(5 \\right)}\\right) {\\left\\langle x - 5 \\right\\rangle}^{0}}{EI} + C_{3} + \\frac{\\left(A_{v} + 35\\right) \\left(\\frac{x^{2}}{2} - 10 x + 25 \\log{\\left(x \\right)} - 25 \\log{\\left(5 \\right)} + \\frac{75}{2}\\right) {\\left\\langle x - 5 \\right\\rangle}^{0}}{EI} + \\frac{- \\frac{A_{v} {\\left\\langle x \\right\\rangle}^{2}}{2} - \\frac{B_{v} {\\left\\langle x - 10 \\right\\rangle}^{2}}{2} + \\frac{C_{1} x^{2}}{2} + C_{2} x - \\frac{35 {\\left\\langle x - 5.0 \\right\\rangle}^{2}}{2}}{EI}$"
      ],
      "text/plain": [
       "                                                                 ⎛ 2          \n",
       "                                                                 ⎜x           \n",
       "                                              0        (Aᵥ + 35)⋅⎜── - 10⋅x + \n",
       "    5⋅Aᵥ⋅(x - 5⋅log(x) - 5 + 5⋅log(5))⋅<x - 5>                   ⎝2           \n",
       "φ = ─────────────────────────────────────────── + C₃ + ───────────────────────\n",
       "                         EI                                                   \n",
       "\n",
       "                          ⎞                    2              2       2       \n",
       "                        75⎟        0     Aᵥ⋅<x>    Bᵥ⋅<x - 10>    C₁⋅x        \n",
       "25⋅log(x) - 25⋅log(5) + ──⎟⋅<x - 5>    - ─────── - ──────────── + ───── + C₂⋅x\n",
       "                        2 ⎠                 2           2           2         \n",
       "──────────────────────────────────── + ───────────────────────────────────────\n",
       "      EI                                                          EI          \n",
       "\n",
       "               2\n",
       "   35⋅<x - 5.0> \n",
       " - ─────────────\n",
       "         2      \n",
       "────────────────\n",
       "                "
      ]
     },
     "metadata": {},
     "output_type": "display_data"
    },
    {
     "data": {
      "image/png": "[encoded data removed]",
      "text/latex": [
       "$\\displaystyle w = - \\frac{5 A_{v} \\left(\\frac{x^{2}}{2} - 5 x \\log{\\left(x \\right)} + 5 x \\log{\\left(5 \\right)} - \\frac{25}{2}\\right) {\\left\\langle x - 5 \\right\\rangle}^{0}}{EI} - C_{3} x + C_{4} - \\frac{\\left(A_{v} + 35\\right) \\left(\\frac{x^{3}}{6} - 5 x^{2} + 25 x \\log{\\left(x \\right)} - 25 x \\log{\\left(5 \\right)} + \\frac{25 x}{2} + \\frac{125}{3}\\right) {\\left\\langle x - 5 \\right\\rangle}^{0}}{EI} - \\frac{- \\frac{A_{v} {\\left\\langle x \\right\\rangle}^{3}}{6} - \\frac{B_{v} {\\left\\langle x - 10 \\right\\rangle}^{3}}{6} + \\frac{C_{1} x^{3}}{6} + \\frac{C_{2} x^{2}}{2} - \\frac{35 {\\left\\langle x - 5.0 \\right\\rangle}^{3}}{6}}{EI}$"
      ],
      "text/plain": [
       "           ⎛ 2                               ⎞                                \n",
       "           ⎜x                              25⎟        0                       \n",
       "      5⋅Aᵥ⋅⎜── - 5⋅x⋅log(x) + 5⋅x⋅log(5) - ──⎟⋅<x - 5>                (Aᵥ + 35\n",
       "           ⎝2                              2 ⎠                                \n",
       "w = - ───────────────────────────────────────────────── - C₃⋅x + C₄ - ────────\n",
       "                              EI                                              \n",
       "\n",
       "  ⎛ 3                                                ⎞                    3   \n",
       "  ⎜x       2                               25⋅x   125⎟        0     Aᵥ⋅<x>    \n",
       ")⋅⎜── - 5⋅x  + 25⋅x⋅log(x) - 25⋅x⋅log(5) + ──── + ───⎟⋅<x - 5>    - ─────── - \n",
       "  ⎝6                                        2      3 ⎠                 6      \n",
       "─────────────────────────────────────────────────────────────── - ────────────\n",
       "                           EI                                                 \n",
       "\n",
       "           3       3       2               3\n",
       "Bᵥ⋅<x - 10>    C₁⋅x    C₂⋅x    35⋅<x - 5.0> \n",
       "──────────── + ───── + ───── - ─────────────\n",
       "     6           6       2           6      \n",
       "────────────────────────────────────────────\n",
       "               EI                           "
      ]
     },
     "metadata": {},
     "output_type": "display_data"
    }
   ],
   "source": [
    "V = -sym.integrate(q, x) + C_1\n",
    "display(sym.Eq(Vl,V))\n",
    "M = sym.integrate(V, x) + C_2\n",
    "display(sym.Eq(Ml,M))\n",
    "kappa = M/EI + 1/EI*(1-5/x)*sym.SingularityFunction(x,5,0)*(A_v*L/2) + 1/EI*(1-5/x)*sym.SingularityFunction(x,5,1)*(A_v+F)\n",
    "display(sym.Eq(kappal,kappa))\n",
    "phi = sym.integrate(kappa, x) + C_3\n",
    "display(sym.Eq(phil,phi))\n",
    "w = -sym.integrate(phi, x) + C_4\n",
    "display(sym.Eq(wl,w))"
   ]
  },
  {
   "cell_type": "code",
   "execution_count": 4,
   "id": "61a26240-54b0-465c-8a76-f697baacf43c",
   "metadata": {},
   "outputs": [
    {
     "data": {
      "image/png": "[encoded data removed]",
      "text/latex": [
       "$\\displaystyle C_{2} = 0$"
      ],
      "text/plain": [
       "C₂ = 0"
      ]
     },
     "metadata": {},
     "output_type": "display_data"
    },
    {
     "data": {
      "image/png": "[encoded data removed]",
      "text/latex": [
       "$\\displaystyle C_{4} = 0$"
      ],
      "text/plain": [
       "C₄ = 0"
      ]
     },
     "metadata": {},
     "output_type": "display_data"
    },
    {
     "data": {
      "image/png": "[encoded data removed]",
      "text/latex": [
       "$\\displaystyle - 10 A_{v} + 10 C_{1} + C_{2} - 175.0 = 0$"
      ],
      "text/plain": [
       "-10⋅Aᵥ + 10⋅C₁ + C₂ - 175.0 = 0"
      ]
     },
     "metadata": {},
     "output_type": "display_data"
    },
    {
     "data": {
      "image/png": "[encoded data removed]",
      "text/latex": [
       "$\\displaystyle - \\frac{5 A_{v} \\left(- 50 \\log{\\left(10 \\right)} + \\frac{75}{2} + 50 \\log{\\left(5 \\right)}\\right)}{EI} - 10 C_{3} + C_{4} - \\frac{\\left(A_{v} + 35\\right) \\left(- 250 \\log{\\left(5 \\right)} - \\frac{500}{3} + 250 \\log{\\left(10 \\right)}\\right)}{EI} - \\frac{- \\frac{500 A_{v}}{3} + \\frac{500 C_{1}}{3} + 50 C_{2} - 729.166666666667}{EI} = 0$"
      ],
      "text/plain": [
       "                                                                              \n",
       "                                                                              \n",
       "  5⋅Aᵥ⋅(-50⋅log(10) + 75/2 + 50⋅log(5))                (Aᵥ + 35)⋅(-250⋅log(5) \n",
       "- ───────────────────────────────────── - 10⋅C₃ + C₄ - ───────────────────────\n",
       "                    EI                                                       E\n",
       "\n",
       "                           500⋅Aᵥ   500⋅C₁                               \n",
       "                         - ────── + ────── + 50⋅C₂ - 729.166666666667    \n",
       "- 500/3 + 250⋅log(10))       3        3                                  \n",
       "────────────────────── - ──────────────────────────────────────────── = 0\n",
       "I                                             EI                         "
      ]
     },
     "metadata": {},
     "output_type": "display_data"
    },
    {
     "data": {
      "image/png": "[encoded data removed]",
      "text/latex": [
       "$\\displaystyle C_{1} = 0$"
      ],
      "text/plain": [
       "C₁ = 0"
      ]
     },
     "metadata": {},
     "output_type": "display_data"
    },
    {
     "data": {
      "image/png": "[encoded data removed]",
      "text/latex": [
       "$\\displaystyle - A_{v} - B_{v} + C_{1} - 35 = 0$"
      ],
      "text/plain": [
       "-Aᵥ - Bᵥ + C₁ - 35 = 0"
      ]
     },
     "metadata": {},
     "output_type": "display_data"
    }
   ],
   "source": [
    "eq1 = sym.Eq(M.subs(x,0),0)\n",
    "eq2 = sym.Eq(w.subs(x,0-very_small),0).subs(oo,sym.oo)\n",
    "eq3 = sym.Eq(M.subs(x,L),0)\n",
    "eq4 = sym.Eq(w.subs(x,L),0)\n",
    "eq5 = sym.Eq(V.subs(x,0-very_small),0).subs(oo,sym.oo)\n",
    "eq6 = sym.Eq(V.subs(x,L+very_small),0).subs(oo,sym.oo)\n",
    "display(eq1, eq2, eq3, eq4, eq5, eq6)"
   ]
  },
  {
   "cell_type": "code",
   "execution_count": 5,
   "id": "c19629d7-826a-442e-9a0d-16b4cae16cc3",
   "metadata": {},
   "outputs": [
    {
     "data": {
      "image/png": "[encoded data removed]",
      "text/latex": [
       "$\\displaystyle \\left\\{ A_{v} : -17.5, \\  B_{v} : -17.5, \\  C_{1} : 0.0, \\  C_{2} : 0.0, \\  C_{3} : - \\frac{205.462116323286}{EI}, \\  C_{4} : 0.0\\right\\}$"
      ],
      "text/plain": [
       "⎧                                            -205.462116323286          ⎫\n",
       "⎨Aᵥ: -17.5, Bᵥ: -17.5, C₁: 0.0, C₂: 0.0, C₃: ──────────────────, C₄: 0.0⎬\n",
       "⎩                                                    EI                 ⎭"
      ]
     },
     "metadata": {},
     "output_type": "display_data"
    },
    {
     "data": {
      "image/png": "[encoded data removed]",
      "text/latex": [
       "$\\displaystyle \\frac{- 17.5 x^{3} {\\left\\langle x - 5 \\right\\rangle}^{0} + 787.5 x^{2} {\\left\\langle x - 5 \\right\\rangle}^{0} - 5250.0 x \\log{\\left(x \\right)} {\\left\\langle x - 5 \\right\\rangle}^{0} - 1312.5 x {\\left\\langle x - 5 \\right\\rangle}^{0} + 5250.0 x \\log{\\left(5 \\right)} {\\left\\langle x - 5 \\right\\rangle}^{0} + 1232.77269793971 x - 17.5 {\\left\\langle x \\right\\rangle}^{3} - 10937.5 {\\left\\langle x - 5 \\right\\rangle}^{0} + 35 {\\left\\langle x - 5.0 \\right\\rangle}^{3} - 17.5 {\\left\\langle x - 10 \\right\\rangle}^{3}}{6 EI}$"
      ],
      "text/plain": [
       "        3        0          2        0                          0             \n",
       "- 17.5⋅x ⋅<x - 5>  + 787.5⋅x ⋅<x - 5>  - 5250.0⋅x⋅log(x)⋅<x - 5>  - 1312.5⋅x⋅<\n",
       "──────────────────────────────────────────────────────────────────────────────\n",
       "                                                                              \n",
       "\n",
       "      0                          0                                3           \n",
       "x - 5>  + 5250.0⋅x⋅log(5)⋅<x - 5>  + 1232.77269793971⋅x - 17.5⋅<x>  - 10937.5⋅\n",
       "──────────────────────────────────────────────────────────────────────────────\n",
       "                   6⋅EI                                                       \n",
       "\n",
       "       0               3                3\n",
       "<x - 5>  + 35⋅<x - 5.0>  - 17.5⋅<x - 10> \n",
       "─────────────────────────────────────────\n",
       "                                         "
      ]
     },
     "metadata": {},
     "output_type": "display_data"
    }
   ],
   "source": [
    "sol = sym.solve((eq1,eq2,eq3,eq4,eq5,eq6),(C_1,C_2,C_3,C_4,A_v,B_v))\n",
    "display(sol)\n",
    "display(w.subs(sol).factor(EI))"
   ]
  },
  {
   "cell_type": "code",
   "execution_count": 6,
   "id": "b5ac002e-01cf-4ff6-920c-ef56f812b6f9",
   "metadata": {},
   "outputs": [
    {
     "ename": "NameError",
     "evalue": "name 'EI2' is not defined",
     "output_type": "error",
     "traceback": [
      "\u001b[1;31m---------------------------------------------------------------------------\u001b[0m",
      "\u001b[1;31mNameError\u001b[0m                                 Traceback (most recent call last)",
      "Cell \u001b[1;32mIn[6], line 1\u001b[0m\n\u001b[1;32m----> 1\u001b[0m w_numpy \u001b[38;5;241m=\u001b[39m sym\u001b[38;5;241m.\u001b[39mlambdify(x, w\u001b[38;5;241m.\u001b[39msubs(sol)\u001b[38;5;241m.\u001b[39msubs(EI,\u001b[38;5;241m10000\u001b[39m)\u001b[38;5;241m.\u001b[39msubs(EI2,\u001b[38;5;241m20000\u001b[39m)\u001b[38;5;241m.\u001b[39mrewrite(sym\u001b[38;5;241m.\u001b[39mPiecewise))\n",
      "\u001b[1;31mNameError\u001b[0m: name 'EI2' is not defined"
     ]
    }
   ],
   "source": [
    "w_numpy = sym.lambdify(x, w.subs(sol).subs(EI,10000).subs(EI2,20000).rewrite(sym.Piecewise))"
   ]
  },
  {
   "cell_type": "code",
   "execution_count": null,
   "id": "b97a26a8-c30e-47e1-b356-2ad25c575b80",
   "metadata": {},
   "outputs": [],
   "source": [
    "x_numpy = np.linspace(0,L,100)\n",
    "plt.figure()\n",
    "plt.plot(x_numpy,w_numpy(x_numpy))\n",
    "plt.xlabel('$x$')\n",
    "plt.ylabel('$w$',rotation=0);\n",
    "ax = plt.gca()\n",
    "ax.spines['right'].set_color('none')\n",
    "ax.spines['top'].set_color('none')\n",
    "ax.spines['bottom'].set_position('zero')\n",
    "ax.spines['left'].set_position('zero')\n",
    "ax.invert_yaxis()\n",
    "print(w_numpy(5))\n",
    "print(w_numpy(7.24562))"
   ]
  },
  {
   "cell_type": "code",
   "execution_count": null,
   "id": "fad413ff-678e-4dd5-bcf6-ad7c143cbc8f",
   "metadata": {},
   "outputs": [],
   "source": [
    "V_numpy = sym.lambdify(x, V.subs(sol).subs(EI,10000).subs(EI2,20000).rewrite(sym.Piecewise))"
   ]
  },
  {
   "cell_type": "code",
   "execution_count": null,
   "id": "0fa42e31-7ad4-4fc5-858c-dba5393c35cc",
   "metadata": {},
   "outputs": [],
   "source": [
    "x_numpy = np.linspace(0,L,100)\n",
    "plt.figure()\n",
    "plt.plot(x_numpy,V_numpy(x_numpy))\n",
    "plt.xlabel('$x$')\n",
    "plt.ylabel('$V$',rotation=0);\n",
    "ax = plt.gca()\n",
    "ax.spines['right'].set_color('none')\n",
    "ax.spines['top'].set_color('none')\n",
    "ax.spines['bottom'].set_position('zero')\n",
    "ax.spines['left'].set_position('zero')\n",
    "ax.invert_yaxis()"
   ]
  },
  {
   "cell_type": "code",
   "execution_count": null,
   "id": "c2e27997-b789-482e-aa1d-275adda2a49d",
   "metadata": {},
   "outputs": [],
   "source": [
    "M_numpy = sym.lambdify(x, M.subs(sol).subs(EI,10000).subs(EI2,20000).rewrite(sym.Piecewise))"
   ]
  },
  {
   "cell_type": "code",
   "execution_count": null,
   "id": "23a1f6ca-9824-4eb0-b061-f61127659359",
   "metadata": {},
   "outputs": [],
   "source": [
    "x_numpy = np.linspace(0,L,100)\n",
    "plt.figure()\n",
    "plt.plot(x_numpy,M_numpy(x_numpy))\n",
    "plt.xlabel('$x$')\n",
    "plt.ylabel('$M$',rotation=0);\n",
    "ax = plt.gca()\n",
    "ax.spines['right'].set_color('none')\n",
    "ax.spines['top'].set_color('none')\n",
    "ax.spines['bottom'].set_position('zero')\n",
    "ax.spines['left'].set_position('zero')\n",
    "ax.invert_yaxis()"
   ]
  },
  {
   "cell_type": "code",
   "execution_count": null,
   "id": "8a5288fc-aefe-4945-9641-38c0c49c2272",
   "metadata": {},
   "outputs": [],
   "source": [
    "kappa_numpy = sym.lambdify(x, kappa.subs(sol).subs(EI,10000).subs(EI2,20000).rewrite(sym.Piecewise))\n",
    "a = (35/2)*(1/2)*(1/x)*sym.SingularityFunction(x,5,2)/10000\n",
    "a1 = sym.lambdify(x, a.subs(sol).subs(EI,10000).subs(EI2,20000).rewrite(sym.Piecewise))\n",
    "display(a)"
   ]
  },
  {
   "cell_type": "code",
   "execution_count": null,
   "id": "a1be33d1-cb97-4a42-8688-e8ae6aebd1f1",
   "metadata": {},
   "outputs": [],
   "source": [
    "x_numpy = np.linspace(0,L,100)\n",
    "plt.figure()\n",
    "plt.plot(x_numpy,kappa_numpy(x_numpy))\n",
    "# plt.plot(x_numpy, a1(x_numpy))\n",
    "plt.xlabel('$x$')\n",
    "plt.ylabel('$\\kappa$',rotation=0);\n",
    "ax = plt.gca()\n",
    "ax.spines['right'].set_color('none')\n",
    "ax.spines['top'].set_color('none')\n",
    "ax.spines['bottom'].set_position('zero')\n",
    "ax.spines['left'].set_position('zero')\n",
    "ax.invert_yaxis()"
   ]
  },
  {
   "cell_type": "code",
   "execution_count": null,
   "id": "3e8e88a1-46a3-44b3-9b7a-3b2426ccae76",
   "metadata": {},
   "outputs": [],
   "source": [
    "display(w.subs(sol).subs(EI,10000).subs(EI2,20000))\n",
    "print(w_numpy(5))\n",
    "print(kappa_numpy(10))\n",
    "print(kappa_numpy(5))\n",
    "print(kappa_numpy(7))\n",
    "phi_numpy = sym.lambdify(x, phi.subs(sol).subs(EI,10000).subs(EI2,20000).rewrite(sym.Piecewise))\n",
    "print(phi_numpy(6))\n"
   ]
  },
  {
   "cell_type": "code",
   "execution_count": null,
   "id": "1b507a60-b25d-4a9b-9df5-59deaa466a2a",
   "metadata": {},
   "outputs": [],
   "source": [
    "print(w.subs(sol).subs(EI,10000))"
   ]
  },
  {
   "cell_type": "code",
   "execution_count": null,
   "id": "d7dd6991-fd26-452d-bd77-3af1fb944fe0",
   "metadata": {},
   "outputs": [],
   "source": [
    "print(w_numpy(7))"
   ]
  },
  {
   "cell_type": "code",
   "execution_count": null,
   "id": "c5ccc8c7-948d-4ada-8383-98ea19f4ff58",
   "metadata": {},
   "outputs": [],
   "source": [
    "print(kappa_numpy(5))\n",
    "print(M_numpy(5))"
   ]
  },
  {
   "cell_type": "code",
   "execution_count": null,
   "id": "b6c0563e-92bb-4f39-8b35-8c0fdd025f8b",
   "metadata": {},
   "outputs": [],
   "source": [
    "x = sym.symbols('x')\n",
    "a = sym.SingularityFunction(5,5,-1)\n",
    "display(a)\n",
    "print(a)"
   ]
  }
 ],
 "metadata": {
  "kernelspec": {
   "display_name": "Python [conda env:base] *",
   "language": "python",
   "name": "conda-base-py"
  },
  "language_info": {
   "codemirror_mode": {
    "name": "ipython",
    "version": 3
   },
   "file_extension": ".py",
   "mimetype": "text/x-python",
   "name": "python",
   "nbconvert_exporter": "python",
   "pygments_lexer": "ipython3",
   "version": "3.11.4"
  }
 },
 "nbformat": 4,
 "nbformat_minor": 5
}
